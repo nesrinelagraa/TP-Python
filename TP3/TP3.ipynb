{
 "cells": [
  {
   "cell_type": "markdown",
   "id": "dffdf0ed",
   "metadata": {},
   "source": [
    "# Exercice 1"
   ]
  },
  {
   "cell_type": "markdown",
   "id": "4075dc5b",
   "metadata": {},
   "source": [
    "1- Web services are XML-based information exchange systems that use the Internet for direct \n",
    "application-to-application interaction."
   ]
  },
  {
   "cell_type": "markdown",
   "id": "1e509683",
   "metadata": {},
   "source": [
    "2- A REST API (also known as RESTful API) is an application programming interface (API or web API) that conforms to the constraints of REST architectural style and allows for interaction with RESTful web services. REST stands for representational state transfer and was created by computer scientist Roy Fielding."
   ]
  },
  {
   "cell_type": "markdown",
   "id": "7a84e08c",
   "metadata": {},
   "source": [
    "3-FastAPI is a Web framework for developing RESTful APIs in Python."
   ]
  },
  {
   "cell_type": "code",
   "execution_count": null,
   "id": "145da2d4",
   "metadata": {},
   "outputs": [],
   "source": []
  }
 ],
 "metadata": {
  "kernelspec": {
   "display_name": "Python 3 (ipykernel)",
   "language": "python",
   "name": "python3"
  },
  "language_info": {
   "codemirror_mode": {
    "name": "ipython",
    "version": 3
   },
   "file_extension": ".py",
   "mimetype": "text/x-python",
   "name": "python",
   "nbconvert_exporter": "python",
   "pygments_lexer": "ipython3",
   "version": "3.8.3"
  }
 },
 "nbformat": 4,
 "nbformat_minor": 5
}
